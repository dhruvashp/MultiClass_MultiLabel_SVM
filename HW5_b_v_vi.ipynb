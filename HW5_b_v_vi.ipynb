{
 "cells": [
  {
   "cell_type": "markdown",
   "metadata": {},
   "source": [
    "Extra Practice\n",
    "\n",
    "HW5 b\n",
    "\n",
    "b v  Do everything with Classifier Chain Method (repeat above portions)\n",
    "\n",
    "b vi ROC, AUC, Confusion Matrix, Precision, Recall for Multi-label, Multi-class in each label, classification\n",
    "\n",
    "The above two questions will be done if time permits, at the end of assignment completion"
   ]
  },
  {
   "cell_type": "code",
   "execution_count": null,
   "metadata": {},
   "outputs": [],
   "source": []
  }
 ],
 "metadata": {
  "kernelspec": {
   "display_name": "Python 3",
   "language": "python",
   "name": "python3"
  },
  "language_info": {
   "codemirror_mode": {
    "name": "ipython",
    "version": 3
   },
   "file_extension": ".py",
   "mimetype": "text/x-python",
   "name": "python",
   "nbconvert_exporter": "python",
   "pygments_lexer": "ipython3",
   "version": "3.7.6"
  }
 },
 "nbformat": 4,
 "nbformat_minor": 4
}
