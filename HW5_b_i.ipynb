{
 "cells": [
  {
   "cell_type": "markdown",
   "metadata": {},
   "source": [
    "HW5\n",
    "b\n",
    "i\n",
    "\n",
    "Here we'll first fit the data on each label individually. Thus using Binary Relevance, once each label has been fit, we will predict over the test data and obtain predictions for each label using its corresponding classifier\n",
    "\n",
    "Finally we'll merge predictions over each label into a 'prediction-matrix' and use that and compare it against the original test data outputs to obtain the hamming loss and the exact match parameters."
   ]
  },
  {
   "cell_type": "code",
   "execution_count": 1,
   "metadata": {},
   "outputs": [],
   "source": [
    "import pandas as pd\n",
    "import numpy as np\n",
    "from sklearn.svm import SVC"
   ]
  },
  {
   "cell_type": "code",
   "execution_count": 2,
   "metadata": {},
   "outputs": [
    {
     "name": "stdout",
     "output_type": "stream",
     "text": [
      "      MFCCs_ 1  MFCCs_ 2  MFCCs_ 3  MFCCs_ 4  MFCCs_ 5  MFCCs_ 6  MFCCs_ 7  \\\n",
      "0          1.0  0.464912  0.409357  0.229967  0.043024  0.110648  0.041558   \n",
      "1          1.0  0.550581  0.416760  0.199992  0.029394  0.152047  0.088736   \n",
      "2          1.0  0.305720  0.161712  0.521877  0.148562 -0.035945 -0.138314   \n",
      "3          1.0  0.085629  0.194640  0.558177  0.288138  0.013115 -0.084558   \n",
      "4          1.0  0.157831  0.220788  0.662399  0.255485 -0.011588 -0.164573   \n",
      "...        ...       ...       ...       ...       ...       ...       ...   \n",
      "5031       1.0  0.948185  0.937043  0.430321  0.102723  0.398668 -0.067899   \n",
      "5032       1.0  0.324665  0.231543  0.658007  0.202736 -0.012427 -0.089231   \n",
      "5033       1.0  0.374609  0.134837  0.317741  0.105642  0.075624  0.158739   \n",
      "5034       1.0  0.782845  0.885191  0.356826 -0.067459  0.240009  0.098551   \n",
      "5035       1.0  0.044293  0.377297  0.421066  0.177453  0.209028  0.079516   \n",
      "\n",
      "      MFCCs_ 8  MFCCs_ 9  MFCCs_10  ...  MFCCs_16  MFCCs_17  MFCCs_18  \\\n",
      "0    -0.009842  0.081414  0.036627  ...  0.078128  0.019938 -0.039470   \n",
      "1    -0.052387  0.079058  0.068792  ...  0.053192 -0.017401 -0.021349   \n",
      "2     0.042936  0.228264 -0.002935  ...  0.012772  0.204895  0.116231   \n",
      "3     0.256094  0.278833 -0.065600  ...  0.095579  0.101606 -0.037121   \n",
      "4     0.049777  0.233471 -0.029371  ...  0.308647  0.261579 -0.079429   \n",
      "...        ...       ...       ...  ...       ...       ...       ...   \n",
      "5031 -0.139194  0.251098  0.082581  ...  0.075853 -0.083334 -0.228895   \n",
      "5032  0.157379  0.335455 -0.070202  ...  0.157242  0.202260 -0.032797   \n",
      "5033  0.075226 -0.123655 -0.002919  ... -0.246365 -0.255364  0.028940   \n",
      "5034  0.044059  0.139555 -0.120770  ...  0.082305 -0.146501  0.007351   \n",
      "5035 -0.161934 -0.070339  0.069340  ... -0.014844  0.125412  0.054223   \n",
      "\n",
      "      MFCCs_19  MFCCs_20  MFCCs_21  MFCCs_22  Family  Genus  Species  \n",
      "0    -0.000706 -0.005770  0.002200  0.056288       2      3        5  \n",
      "1     0.031531  0.001219  0.006335  0.054646       2      3        5  \n",
      "2    -0.028744 -0.184980  0.000807  0.250984       3      0        1  \n",
      "3    -0.009066 -0.029094  0.140035  0.108224       3      0        1  \n",
      "4    -0.192822 -0.045800  0.168129  0.179297       3      0        1  \n",
      "...        ...       ...       ...       ...     ...    ...      ...  \n",
      "5031  0.070537 -0.007341 -0.070222  0.110329       2      3        5  \n",
      "5032 -0.127551 -0.093905  0.025605  0.157339       3      0        1  \n",
      "5033  0.022588 -0.004840  0.047002  0.084752       1      1        2  \n",
      "5034  0.068298  0.123924  0.044961 -0.162249       2      3        4  \n",
      "5035 -0.021921  0.007565 -0.077424 -0.027695       2      3        5  \n",
      "\n",
      "[5036 rows x 25 columns]\n",
      "      MFCCs_ 1  MFCCs_ 2  MFCCs_ 3  MFCCs_ 4  MFCCs_ 5  MFCCs_ 6  MFCCs_ 7  \\\n",
      "0          1.0  0.362366  0.174132  0.228056 -0.067992 -0.044878  0.162672   \n",
      "1          1.0  0.105913  0.333914  0.349876  0.172036  0.211248  0.147673   \n",
      "2          1.0  0.190421  0.219581  0.610626  0.196886  0.037638 -0.145008   \n",
      "3          1.0  0.057275  0.000756  0.458518  0.217470  0.091216 -0.055090   \n",
      "4          1.0  0.411629  0.318173  0.532519  0.181145  0.039846 -0.065335   \n",
      "...        ...       ...       ...       ...       ...       ...       ...   \n",
      "2154       1.0  0.403517  0.251328  0.555090  0.202856 -0.060089 -0.147158   \n",
      "2155       1.0 -0.117778  0.117083  0.333777  0.383093  0.179308 -0.149329   \n",
      "2156       1.0  0.184261  0.325371  0.315440  0.125807  0.176992  0.131400   \n",
      "2157       1.0  0.176501 -0.118110  0.262950  0.242768  0.071629 -0.050304   \n",
      "2158       1.0 -0.350154 -0.378308 -0.025907  0.006280  0.169734  0.275162   \n",
      "\n",
      "      MFCCs_ 8  MFCCs_ 9  MFCCs_10  ...  MFCCs_16  MFCCs_17  MFCCs_18  \\\n",
      "0     0.073472 -0.151432 -0.050095  ... -0.102357 -0.112155  0.066174   \n",
      "1    -0.162151 -0.045324  0.093012  ...  0.002756  0.095784  0.044691   \n",
      "2     0.034531  0.299597  0.085203  ...  0.124965  0.182419 -0.029639   \n",
      "3     0.014044  0.259953  0.108505  ... -0.035656  0.228542  0.057019   \n",
      "4     0.074894  0.248024 -0.020991  ...  0.067832  0.127299 -0.028072   \n",
      "...        ...       ...       ...  ...       ...       ...       ...   \n",
      "2154  0.089691  0.281005  0.011497  ...  0.095638  0.255686  0.075666   \n",
      "2155 -0.056769  0.016896  0.095274  ...  0.069237  0.032612  0.024816   \n",
      "2156 -0.120158 -0.064537  0.083073  ... -0.005127  0.104220  0.070151   \n",
      "2157  0.005639  0.122420  0.087915  ... -0.093008 -0.188559 -0.042996   \n",
      "2158  0.129003  0.199270  0.150783  ...  0.019372  0.150814  0.107573   \n",
      "\n",
      "      MFCCs_19  MFCCs_20  MFCCs_21  MFCCs_22  Family  Genus  Species  \n",
      "0    -0.015691 -0.114416 -0.041460  0.011978       1      1        2  \n",
      "1     0.017000 -0.019220 -0.064557 -0.044979       2      3        5  \n",
      "2    -0.150117 -0.158192  0.025760  0.181372       3      0        1  \n",
      "3    -0.154582 -0.182062  0.015546  0.246162       3      0        1  \n",
      "4    -0.069316 -0.069892  0.098817  0.232463       3      0        1  \n",
      "...        ...       ...       ...       ...     ...    ...      ...  \n",
      "2154 -0.055050 -0.101619  0.030767  0.189878       3      0        1  \n",
      "2155 -0.018284 -0.026578 -0.007603  0.015087       2      7        9  \n",
      "2156  0.022908 -0.011797 -0.045775 -0.016815       2      3        5  \n",
      "2157  0.062674 -0.018801 -0.085252  0.087206       1      1        2  \n",
      "2158 -0.014363 -0.072600 -0.039651  0.017255       2      2        3  \n",
      "\n",
      "[2159 rows x 25 columns]\n"
     ]
    }
   ],
   "source": [
    "df_train = pd.read_csv('Train_Data.csv',index_col=0)\n",
    "df_test = pd.read_csv('Test_Data.csv',index_col=0)\n",
    "print(df_train)\n",
    "print(df_test)"
   ]
  },
  {
   "cell_type": "code",
   "execution_count": 3,
   "metadata": {},
   "outputs": [],
   "source": [
    "features_train = df_train.drop(columns=['Family','Genus','Species'])\n",
    "features_test = df_test.drop(columns=['Family','Genus','Species']) \n",
    "\n",
    "family_train = pd.DataFrame(df_train['Family'])\n",
    "genus_train = pd.DataFrame(df_train['Genus'])\n",
    "species_train = pd.DataFrame(df_train['Species'])\n",
    "\n",
    "family_test = pd.DataFrame(df_test['Family'])\n",
    "genus_test = pd.DataFrame(df_test['Genus'])\n",
    "species_test = pd.DataFrame(df_test['Species'])"
   ]
  },
  {
   "cell_type": "code",
   "execution_count": 4,
   "metadata": {},
   "outputs": [
    {
     "name": "stdout",
     "output_type": "stream",
     "text": [
      "      MFCCs_ 1  MFCCs_ 2  MFCCs_ 3  MFCCs_ 4  MFCCs_ 5  MFCCs_ 6  MFCCs_ 7  \\\n",
      "0          1.0  0.464912  0.409357  0.229967  0.043024  0.110648  0.041558   \n",
      "1          1.0  0.550581  0.416760  0.199992  0.029394  0.152047  0.088736   \n",
      "2          1.0  0.305720  0.161712  0.521877  0.148562 -0.035945 -0.138314   \n",
      "3          1.0  0.085629  0.194640  0.558177  0.288138  0.013115 -0.084558   \n",
      "4          1.0  0.157831  0.220788  0.662399  0.255485 -0.011588 -0.164573   \n",
      "...        ...       ...       ...       ...       ...       ...       ...   \n",
      "5031       1.0  0.948185  0.937043  0.430321  0.102723  0.398668 -0.067899   \n",
      "5032       1.0  0.324665  0.231543  0.658007  0.202736 -0.012427 -0.089231   \n",
      "5033       1.0  0.374609  0.134837  0.317741  0.105642  0.075624  0.158739   \n",
      "5034       1.0  0.782845  0.885191  0.356826 -0.067459  0.240009  0.098551   \n",
      "5035       1.0  0.044293  0.377297  0.421066  0.177453  0.209028  0.079516   \n",
      "\n",
      "      MFCCs_ 8  MFCCs_ 9  MFCCs_10  ...  MFCCs_13  MFCCs_14  MFCCs_15  \\\n",
      "0    -0.009842  0.081414  0.036627  ...  0.063291 -0.057370 -0.032915   \n",
      "1    -0.052387  0.079058  0.068792  ...  0.100111 -0.042021 -0.007641   \n",
      "2     0.042936  0.228264 -0.002935  ...  0.336542 -0.045743 -0.260697   \n",
      "3     0.256094  0.278833 -0.065600  ...  0.299832 -0.060055 -0.170615   \n",
      "4     0.049777  0.233471 -0.029371  ...  0.233300 -0.224380 -0.128133   \n",
      "...        ...       ...       ...  ...       ...       ...       ...   \n",
      "5031 -0.139194  0.251098  0.082581  ... -0.016931 -0.082347 -0.021121   \n",
      "5032  0.157379  0.335455 -0.070202  ...  0.440156 -0.174006 -0.306348   \n",
      "5033  0.075226 -0.123655 -0.002919  ... -0.161300  0.272122  0.214108   \n",
      "5034  0.044059  0.139555 -0.120770  ... -0.134870 -0.208251  0.189393   \n",
      "5035 -0.161934 -0.070339  0.069340  ...  0.080859 -0.032654 -0.111220   \n",
      "\n",
      "      MFCCs_16  MFCCs_17  MFCCs_18  MFCCs_19  MFCCs_20  MFCCs_21  MFCCs_22  \n",
      "0     0.078128  0.019938 -0.039470 -0.000706 -0.005770  0.002200  0.056288  \n",
      "1     0.053192 -0.017401 -0.021349  0.031531  0.001219  0.006335  0.054646  \n",
      "2     0.012772  0.204895  0.116231 -0.028744 -0.184980  0.000807  0.250984  \n",
      "3     0.095579  0.101606 -0.037121 -0.009066 -0.029094  0.140035  0.108224  \n",
      "4     0.308647  0.261579 -0.079429 -0.192822 -0.045800  0.168129  0.179297  \n",
      "...        ...       ...       ...       ...       ...       ...       ...  \n",
      "5031  0.075853 -0.083334 -0.228895  0.070537 -0.007341 -0.070222  0.110329  \n",
      "5032  0.157242  0.202260 -0.032797 -0.127551 -0.093905  0.025605  0.157339  \n",
      "5033 -0.246365 -0.255364  0.028940  0.022588 -0.004840  0.047002  0.084752  \n",
      "5034  0.082305 -0.146501  0.007351  0.068298  0.123924  0.044961 -0.162249  \n",
      "5035 -0.014844  0.125412  0.054223 -0.021921  0.007565 -0.077424 -0.027695  \n",
      "\n",
      "[5036 rows x 22 columns]\n",
      "      MFCCs_ 1  MFCCs_ 2  MFCCs_ 3  MFCCs_ 4  MFCCs_ 5  MFCCs_ 6  MFCCs_ 7  \\\n",
      "0          1.0  0.362366  0.174132  0.228056 -0.067992 -0.044878  0.162672   \n",
      "1          1.0  0.105913  0.333914  0.349876  0.172036  0.211248  0.147673   \n",
      "2          1.0  0.190421  0.219581  0.610626  0.196886  0.037638 -0.145008   \n",
      "3          1.0  0.057275  0.000756  0.458518  0.217470  0.091216 -0.055090   \n",
      "4          1.0  0.411629  0.318173  0.532519  0.181145  0.039846 -0.065335   \n",
      "...        ...       ...       ...       ...       ...       ...       ...   \n",
      "2154       1.0  0.403517  0.251328  0.555090  0.202856 -0.060089 -0.147158   \n",
      "2155       1.0 -0.117778  0.117083  0.333777  0.383093  0.179308 -0.149329   \n",
      "2156       1.0  0.184261  0.325371  0.315440  0.125807  0.176992  0.131400   \n",
      "2157       1.0  0.176501 -0.118110  0.262950  0.242768  0.071629 -0.050304   \n",
      "2158       1.0 -0.350154 -0.378308 -0.025907  0.006280  0.169734  0.275162   \n",
      "\n",
      "      MFCCs_ 8  MFCCs_ 9  MFCCs_10  ...  MFCCs_13  MFCCs_14  MFCCs_15  \\\n",
      "0     0.073472 -0.151432 -0.050095  ... -0.263560  0.123664  0.197359   \n",
      "1    -0.162151 -0.045324  0.093012  ...  0.148289 -0.016003 -0.112175   \n",
      "2     0.034531  0.299597  0.085203  ...  0.349802 -0.085395 -0.208965   \n",
      "3     0.014044  0.259953  0.108505  ...  0.293441 -0.042121 -0.318517   \n",
      "4     0.074894  0.248024 -0.020991  ...  0.304648 -0.136598 -0.240190   \n",
      "...        ...       ...       ...  ...       ...       ...       ...   \n",
      "2154  0.089691  0.281005  0.011497  ...  0.319497 -0.079567 -0.260520   \n",
      "2155 -0.056769  0.016896  0.095274  ... -0.020602 -0.050579 -0.010287   \n",
      "2156 -0.120158 -0.064537  0.083073  ...  0.131386 -0.012355 -0.116458   \n",
      "2157  0.005639  0.122420  0.087915  ... -0.006284  0.279332  0.179417   \n",
      "2158  0.129003  0.199270  0.150783  ...  0.074445  0.021159 -0.100615   \n",
      "\n",
      "      MFCCs_16  MFCCs_17  MFCCs_18  MFCCs_19  MFCCs_20  MFCCs_21  MFCCs_22  \n",
      "0    -0.102357 -0.112155  0.066174 -0.015691 -0.114416 -0.041460  0.011978  \n",
      "1     0.002756  0.095784  0.044691  0.017000 -0.019220 -0.064557 -0.044979  \n",
      "2     0.124965  0.182419 -0.029639 -0.150117 -0.158192  0.025760  0.181372  \n",
      "3    -0.035656  0.228542  0.057019 -0.154582 -0.182062  0.015546  0.246162  \n",
      "4     0.067832  0.127299 -0.028072 -0.069316 -0.069892  0.098817  0.232463  \n",
      "...        ...       ...       ...       ...       ...       ...       ...  \n",
      "2154  0.095638  0.255686  0.075666 -0.055050 -0.101619  0.030767  0.189878  \n",
      "2155  0.069237  0.032612  0.024816 -0.018284 -0.026578 -0.007603  0.015087  \n",
      "2156 -0.005127  0.104220  0.070151  0.022908 -0.011797 -0.045775 -0.016815  \n",
      "2157 -0.093008 -0.188559 -0.042996  0.062674 -0.018801 -0.085252  0.087206  \n",
      "2158  0.019372  0.150814  0.107573 -0.014363 -0.072600 -0.039651  0.017255  \n",
      "\n",
      "[2159 rows x 22 columns]\n"
     ]
    }
   ],
   "source": [
    "print(features_train)\n",
    "print(features_test)"
   ]
  },
  {
   "cell_type": "code",
   "execution_count": 5,
   "metadata": {},
   "outputs": [
    {
     "name": "stdout",
     "output_type": "stream",
     "text": [
      "      Family\n",
      "0          2\n",
      "1          2\n",
      "2          3\n",
      "3          3\n",
      "4          3\n",
      "...      ...\n",
      "5031       2\n",
      "5032       3\n",
      "5033       1\n",
      "5034       2\n",
      "5035       2\n",
      "\n",
      "[5036 rows x 1 columns]\n",
      "      Genus\n",
      "0         3\n",
      "1         3\n",
      "2         0\n",
      "3         0\n",
      "4         0\n",
      "...     ...\n",
      "5031      3\n",
      "5032      0\n",
      "5033      1\n",
      "5034      3\n",
      "5035      3\n",
      "\n",
      "[5036 rows x 1 columns]\n",
      "      Species\n",
      "0           5\n",
      "1           5\n",
      "2           1\n",
      "3           1\n",
      "4           1\n",
      "...       ...\n",
      "5031        5\n",
      "5032        1\n",
      "5033        2\n",
      "5034        4\n",
      "5035        5\n",
      "\n",
      "[5036 rows x 1 columns]\n"
     ]
    }
   ],
   "source": [
    "print(family_train)\n",
    "print(genus_train)\n",
    "print(species_train)"
   ]
  },
  {
   "cell_type": "code",
   "execution_count": 6,
   "metadata": {},
   "outputs": [
    {
     "name": "stdout",
     "output_type": "stream",
     "text": [
      "      Family\n",
      "0          1\n",
      "1          2\n",
      "2          3\n",
      "3          3\n",
      "4          3\n",
      "...      ...\n",
      "2154       3\n",
      "2155       2\n",
      "2156       2\n",
      "2157       1\n",
      "2158       2\n",
      "\n",
      "[2159 rows x 1 columns]\n",
      "      Genus\n",
      "0         1\n",
      "1         3\n",
      "2         0\n",
      "3         0\n",
      "4         0\n",
      "...     ...\n",
      "2154      0\n",
      "2155      7\n",
      "2156      3\n",
      "2157      1\n",
      "2158      2\n",
      "\n",
      "[2159 rows x 1 columns]\n",
      "      Species\n",
      "0           2\n",
      "1           5\n",
      "2           1\n",
      "3           1\n",
      "4           1\n",
      "...       ...\n",
      "2154        1\n",
      "2155        9\n",
      "2156        5\n",
      "2157        2\n",
      "2158        3\n",
      "\n",
      "[2159 rows x 1 columns]\n"
     ]
    }
   ],
   "source": [
    "print(family_test)\n",
    "print(genus_test)\n",
    "print(species_test)"
   ]
  },
  {
   "cell_type": "code",
   "execution_count": 7,
   "metadata": {},
   "outputs": [
    {
     "name": "stderr",
     "output_type": "stream",
     "text": [
      "C:\\Users\\DHRUV\\anaconda3\\lib\\site-packages\\sklearn\\utils\\validation.py:72: DataConversionWarning: A column-vector y was passed when a 1d array was expected. Please change the shape of y to (n_samples, ), for example using ravel().\n",
      "  return f(**kwargs)\n",
      "C:\\Users\\DHRUV\\anaconda3\\lib\\site-packages\\sklearn\\utils\\validation.py:72: DataConversionWarning: A column-vector y was passed when a 1d array was expected. Please change the shape of y to (n_samples, ), for example using ravel().\n",
      "  return f(**kwargs)\n",
      "C:\\Users\\DHRUV\\anaconda3\\lib\\site-packages\\sklearn\\utils\\validation.py:72: DataConversionWarning: A column-vector y was passed when a 1d array was expected. Please change the shape of y to (n_samples, ), for example using ravel().\n",
      "  return f(**kwargs)\n"
     ]
    }
   ],
   "source": [
    "clf_fam = SVC().fit(features_train,family_train)\n",
    "clf_gen = SVC().fit(features_train,genus_train)\n",
    "clf_spe = SVC().fit(features_train,species_train)"
   ]
  },
  {
   "cell_type": "code",
   "execution_count": 8,
   "metadata": {},
   "outputs": [
    {
     "name": "stdout",
     "output_type": "stream",
     "text": [
      "[1 2 3 ... 2 1 2]\n"
     ]
    }
   ],
   "source": [
    "family_predicted = clf_fam.predict(features_test)\n",
    "print(family_predicted)                  # Predictions are not dataframes but arrays"
   ]
  },
  {
   "cell_type": "code",
   "execution_count": 9,
   "metadata": {},
   "outputs": [
    {
     "name": "stdout",
     "output_type": "stream",
     "text": [
      "[1 3 0 ... 3 1 2]\n"
     ]
    }
   ],
   "source": [
    "genus_predicted = clf_gen.predict(features_test)\n",
    "print(genus_predicted)                  # Predictions are not dataframes but arrays"
   ]
  },
  {
   "cell_type": "code",
   "execution_count": 10,
   "metadata": {},
   "outputs": [
    {
     "name": "stdout",
     "output_type": "stream",
     "text": [
      "[2 5 1 ... 5 2 3]\n"
     ]
    }
   ],
   "source": [
    "species_predicted = clf_spe.predict(features_test)\n",
    "print(species_predicted)                  # Predictions are not dataframes but arrays"
   ]
  },
  {
   "cell_type": "markdown",
   "metadata": {},
   "source": [
    "Collecting the predicted outputs and the test outputs into a dataframe for hamming and exact match calculations "
   ]
  },
  {
   "cell_type": "code",
   "execution_count": 15,
   "metadata": {
    "scrolled": true
   },
   "outputs": [
    {
     "name": "stdout",
     "output_type": "stream",
     "text": [
      "      Family  Genus  Species\n",
      "0          1      1        2\n",
      "1          2      3        5\n",
      "2          3      0        1\n",
      "3          3      0        1\n",
      "4          3      0        1\n",
      "...      ...    ...      ...\n",
      "2154       3      0        1\n",
      "2155       2      7        9\n",
      "2156       2      3        5\n",
      "2157       1      1        2\n",
      "2158       2      2        3\n",
      "\n",
      "[2159 rows x 3 columns]\n"
     ]
    }
   ],
   "source": [
    "test_labels = pd.concat([family_test,genus_test,species_test],axis=1)\n",
    "print(test_labels)"
   ]
  },
  {
   "cell_type": "code",
   "execution_count": 16,
   "metadata": {},
   "outputs": [
    {
     "name": "stdout",
     "output_type": "stream",
     "text": [
      "      Predicted Family  Predicted Genus  Predicted Species\n",
      "0                    1                1                  2\n",
      "1                    2                3                  5\n",
      "2                    3                0                  1\n",
      "3                    3                0                  1\n",
      "4                    3                0                  1\n",
      "...                ...              ...                ...\n",
      "2154                 3                0                  1\n",
      "2155                 2                7                  9\n",
      "2156                 2                3                  5\n",
      "2157                 1                1                  2\n",
      "2158                 2                2                  3\n",
      "\n",
      "[2159 rows x 3 columns]\n"
     ]
    }
   ],
   "source": [
    "predicted_test_labels = pd.concat([pd.DataFrame(family_predicted.transpose(), columns = ['Predicted Family']),\n",
    "                                  pd.DataFrame(genus_predicted.transpose(), columns = ['Predicted Genus']),\n",
    "                                  pd.DataFrame(species_predicted.transpose(), columns = ['Predicted Species'])],\n",
    "                                  axis = 1)\n",
    "print(predicted_test_labels)"
   ]
  },
  {
   "cell_type": "markdown",
   "metadata": {},
   "source": [
    "Exact Match Calculations"
   ]
  },
  {
   "cell_type": "code",
   "execution_count": 17,
   "metadata": {},
   "outputs": [
    {
     "name": "stdout",
     "output_type": "stream",
     "text": [
      "The exact mismatch in percentage is : \n",
      " 2.7790643816581753 %\n",
      "The exact match in percentage is : \n",
      " 97.22093561834183 %\n"
     ]
    }
   ],
   "source": [
    "ex_mis = 0\n",
    "for i in np.arange(0,test_labels.shape[0]):\n",
    "    if ((predicted_test_labels.iloc[i,0] != test_labels.iloc[i,0]) or (predicted_test_labels.iloc[i,1] != test_labels.iloc[i,1]) or (predicted_test_labels.iloc[i,2] != test_labels.iloc[i,2])):\n",
    "        ex_mis = ex_mis + 1\n",
    "\n",
    "ex_mis_percentage = (ex_mis/test_labels.shape[0])*100\n",
    "\n",
    "print('The exact mismatch in percentage is : \\n',ex_mis_percentage,'%')\n",
    "print('The exact match in percentage is : \\n',100-ex_mis_percentage,'%')"
   ]
  },
  {
   "cell_type": "markdown",
   "metadata": {},
   "source": [
    "Hamming Loss Calculations"
   ]
  },
  {
   "cell_type": "code",
   "execution_count": 18,
   "metadata": {},
   "outputs": [
    {
     "name": "stdout",
     "output_type": "stream",
     "text": [
      "The hamming loss mismatch in percentage is : \n",
      " 1.6828778755596727 %\n",
      "The hamming loss match in percentage is : \n",
      " 98.31712212444033 %\n"
     ]
    }
   ],
   "source": [
    "hm_mis = 0\n",
    "for i in np.arange(0,test_labels.shape[0]):\n",
    "    for j in np.arange(0,test_labels.shape[1]):\n",
    "        if predicted_test_labels.iloc[i,j] != test_labels.iloc[i,j]:\n",
    "            hm_mis = hm_mis + 1\n",
    "\n",
    "hm_mis_percentage = (hm_mis/test_labels.size)*100\n",
    "\n",
    "print('The hamming loss mismatch in percentage is : \\n',hm_mis_percentage,'%')\n",
    "print('The hamming loss match in percentage is : \\n',100-hm_mis_percentage,'%')"
   ]
  },
  {
   "cell_type": "markdown",
   "metadata": {},
   "source": [
    "Hamming Loss\n",
    "Hamming loss calculates mismatches (or matches) by calculating for each label the total mismatches, summing all such mismatches for all the labels.\n",
    "Thus each prediction datapoint in a label and class matrix is compared to the corresponding datapoint to calculate mismatches\n",
    "\n",
    "So hamming loss calculates mismatches over extended labels, like traditional test errors by stacking prediction and test labels correspondingly over one another and calculating the mismatches.\n",
    "\n",
    "Thus for hamming loss entry wise comparison takes place\n",
    "\n",
    "Exact Match\n",
    "Exact match, checks, as obvious, the exact label string matches on our prediction to our test. Thus each sample has a set of labels with classes in each. If for a sample all the classes in all the labels predicted match the test sample label and classes, only then, the match is true. If even a single label for a sample is predicted incorrectly, the sample is assumed to be mismatched. Thus exact match calculates matches over a given row, along all the columns.\n",
    "\n",
    "Obviously it is expected that exact match give a larger mismatch than hamming loss as the conditions for exact match are much more rigid/strict than for hamming loss.\n",
    "\n",
    "\n",
    "This is the difference between Hamming Loss and Exact Match"
   ]
  }
 ],
 "metadata": {
  "kernelspec": {
   "display_name": "Python 3",
   "language": "python",
   "name": "python3"
  },
  "language_info": {
   "codemirror_mode": {
    "name": "ipython",
    "version": 3
   },
   "file_extension": ".py",
   "mimetype": "text/x-python",
   "name": "python",
   "nbconvert_exporter": "python",
   "pygments_lexer": "ipython3",
   "version": "3.7.6"
  }
 },
 "nbformat": 4,
 "nbformat_minor": 4
}
