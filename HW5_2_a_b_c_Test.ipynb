{
 "cells": [
  {
   "cell_type": "markdown",
   "metadata": {},
   "source": [
    "HW5\n",
    "2a,b,c"
   ]
  },
  {
   "cell_type": "markdown",
   "metadata": {},
   "source": [
    "Hamming Loss :\n",
    "Hamming Loss is defined similar to how it was previously defined and previously obtained.\n",
    "For example, consider the following :\n",
    "\n",
    "Actual Classes in our labels, ordered set        (1,2,4) \n",
    "Predicted Classes in our labels, ordered set     (0,2,4)\n",
    "\n",
    "Hamming Loss for this instance is 1/3\n",
    "\n",
    "Thus hamming loss calculates the mismatch between the actual label class and the predicted label class\n",
    "\n",
    "This will be averaged over all instances\n",
    "\n",
    "\n",
    "Hamming Distance :\n",
    "The definition of Hamming Distance in traditional binary sets will be used. Considering again, for an instance,\n",
    "Actual (1,2,0)\n",
    "Predicted (2,2,1)\n",
    "\n",
    "The hamming distance is 2, as 2 mismatch occur, index-corresponding\n",
    "Hamming Loss for this instance would be 2/3\n",
    "Thus hamming distance calculates how many index corresponding class changes we would need to perform on the predicted vector of label-class, to obtain the actual vector of label-class\n",
    "\n",
    "\n",
    "\n",
    "Hamming Score :\n",
    "Accuracy score or hamming score is the same, as referenced in Godbole. \n",
    "\n",
    "Hamming Score (for an instance) = True Prediction / All Predictions (counted in a correct way) = intersection / union\n",
    "\n",
    "Obviously defining this for multi-label, multi-class case is relatively conflicting\n",
    "\n",
    "Consider : \n",
    "Actual (1,2,4,0,9)\n",
    "Predicted (0,2,4,1,8)\n",
    "\n",
    "Obviously, here, everything is indexed.\n",
    "True predictions are 2,4 = 2\n",
    "All predictions are 0,1,2,4,8 = 5\n",
    "So Hamming Score here = 2/5\n",
    "\n",
    "Also Consider :\n",
    "Actual (1,1,0,2,3)           \n",
    "Predicted (1,2,0,1,3)        \n",
    "\n",
    "True Prediction are 1,0,3 = 3          (for us, index matters)\n",
    "All Prediction are 1,2,0,3 (distinct, repetitions not allowed) = 4\n",
    "\n",
    "\n",
    "In general hamming score = true predictions / all distinct predictions (ignoring class differences of different labels) = 3/4 here\n",
    "\n",
    "Thus even though class 1 in label 1 and class 1 of label 5 correspond to entirely different entities altogether, we consider them same in calculating the Hamming Score (based on references I've come across)\n",
    "\n",
    "Thus hamming score calculates how distinct predictions are from the original set.\n",
    "\n",
    "Hamming score has numerator which is the same as that in Hamming Loss, however hamming loss has denominator that counts all the indices over which comparison was done, whereas hamming score evaluates for its denominator the collection of distinct (neglect label-class difference) classes in the entire two sets, actual and the predicted.\n",
    "\n",
    "\n",
    "OVER ALL Instances, calculation done by averaging over each instance.\n",
    "\n",
    "For Hamming Loss this is just = (total mismatch, stacked label-class)/(total such stacked entities)\n",
    "\n",
    "Hamming distance = total mismatches / total instances\n",
    "\n",
    "Hamming score = average(Hamming Score for each instance)\n",
    "\n",
    "HS for each instance = total mismatch over an instance / all distinct classes in both the sets (actual,predicted) over an instance\n",
    "\n",
    "Thus Hamming Loss and Distance will be cumulatively obtained, Hamming score will be individually obtained over each instance, and then averaged\n",
    "\n",
    "HL and HD can also be obtained like HS, but they'll be the same as the cumulative entity due to the denominator being same over each instance. For HS multiple alternate definitions based on interpretation are possible, but here we go with this one."
   ]
  },
  {
   "cell_type": "code",
   "execution_count": 21,
   "metadata": {},
   "outputs": [
    {
     "name": "stdout",
     "output_type": "stream",
     "text": [
      "      MFCCs_ 1  MFCCs_ 2  MFCCs_ 3  MFCCs_ 4  MFCCs_ 5  MFCCs_ 6  MFCCs_ 7  \\\n",
      "0          1.0  0.464912  0.409357  0.229967  0.043024  0.110648  0.041558   \n",
      "1          1.0  0.550581  0.416760  0.199992  0.029394  0.152047  0.088736   \n",
      "2          1.0  0.305720  0.161712  0.521877  0.148562 -0.035945 -0.138314   \n",
      "3          1.0  0.085629  0.194640  0.558177  0.288138  0.013115 -0.084558   \n",
      "4          1.0  0.157831  0.220788  0.662399  0.255485 -0.011588 -0.164573   \n",
      "...        ...       ...       ...       ...       ...       ...       ...   \n",
      "5031       1.0  0.948185  0.937043  0.430321  0.102723  0.398668 -0.067899   \n",
      "5032       1.0  0.324665  0.231543  0.658007  0.202736 -0.012427 -0.089231   \n",
      "5033       1.0  0.374609  0.134837  0.317741  0.105642  0.075624  0.158739   \n",
      "5034       1.0  0.782845  0.885191  0.356826 -0.067459  0.240009  0.098551   \n",
      "5035       1.0  0.044293  0.377297  0.421066  0.177453  0.209028  0.079516   \n",
      "\n",
      "      MFCCs_ 8  MFCCs_ 9  MFCCs_10  ...  MFCCs_16  MFCCs_17  MFCCs_18  \\\n",
      "0    -0.009842  0.081414  0.036627  ...  0.078128  0.019938 -0.039470   \n",
      "1    -0.052387  0.079058  0.068792  ...  0.053192 -0.017401 -0.021349   \n",
      "2     0.042936  0.228264 -0.002935  ...  0.012772  0.204895  0.116231   \n",
      "3     0.256094  0.278833 -0.065600  ...  0.095579  0.101606 -0.037121   \n",
      "4     0.049777  0.233471 -0.029371  ...  0.308647  0.261579 -0.079429   \n",
      "...        ...       ...       ...  ...       ...       ...       ...   \n",
      "5031 -0.139194  0.251098  0.082581  ...  0.075853 -0.083334 -0.228895   \n",
      "5032  0.157379  0.335455 -0.070202  ...  0.157242  0.202260 -0.032797   \n",
      "5033  0.075226 -0.123655 -0.002919  ... -0.246365 -0.255364  0.028940   \n",
      "5034  0.044059  0.139555 -0.120770  ...  0.082305 -0.146501  0.007351   \n",
      "5035 -0.161934 -0.070339  0.069340  ... -0.014844  0.125412  0.054223   \n",
      "\n",
      "      MFCCs_19  MFCCs_20  MFCCs_21  MFCCs_22  Family  Genus  Species  \n",
      "0    -0.000706 -0.005770  0.002200  0.056288       2      3        5  \n",
      "1     0.031531  0.001219  0.006335  0.054646       2      3        5  \n",
      "2    -0.028744 -0.184980  0.000807  0.250984       3      0        1  \n",
      "3    -0.009066 -0.029094  0.140035  0.108224       3      0        1  \n",
      "4    -0.192822 -0.045800  0.168129  0.179297       3      0        1  \n",
      "...        ...       ...       ...       ...     ...    ...      ...  \n",
      "5031  0.070537 -0.007341 -0.070222  0.110329       2      3        5  \n",
      "5032 -0.127551 -0.093905  0.025605  0.157339       3      0        1  \n",
      "5033  0.022588 -0.004840  0.047002  0.084752       1      1        2  \n",
      "5034  0.068298  0.123924  0.044961 -0.162249       2      3        4  \n",
      "5035 -0.021921  0.007565 -0.077424 -0.027695       2      3        5  \n",
      "\n",
      "[5036 rows x 25 columns]\n",
      "      MFCCs_ 1  MFCCs_ 2  MFCCs_ 3  MFCCs_ 4  MFCCs_ 5  MFCCs_ 6  MFCCs_ 7  \\\n",
      "0          1.0  0.362366  0.174132  0.228056 -0.067992 -0.044878  0.162672   \n",
      "1          1.0  0.105913  0.333914  0.349876  0.172036  0.211248  0.147673   \n",
      "2          1.0  0.190421  0.219581  0.610626  0.196886  0.037638 -0.145008   \n",
      "3          1.0  0.057275  0.000756  0.458518  0.217470  0.091216 -0.055090   \n",
      "4          1.0  0.411629  0.318173  0.532519  0.181145  0.039846 -0.065335   \n",
      "...        ...       ...       ...       ...       ...       ...       ...   \n",
      "2154       1.0  0.403517  0.251328  0.555090  0.202856 -0.060089 -0.147158   \n",
      "2155       1.0 -0.117778  0.117083  0.333777  0.383093  0.179308 -0.149329   \n",
      "2156       1.0  0.184261  0.325371  0.315440  0.125807  0.176992  0.131400   \n",
      "2157       1.0  0.176501 -0.118110  0.262950  0.242768  0.071629 -0.050304   \n",
      "2158       1.0 -0.350154 -0.378308 -0.025907  0.006280  0.169734  0.275162   \n",
      "\n",
      "      MFCCs_ 8  MFCCs_ 9  MFCCs_10  ...  MFCCs_16  MFCCs_17  MFCCs_18  \\\n",
      "0     0.073472 -0.151432 -0.050095  ... -0.102357 -0.112155  0.066174   \n",
      "1    -0.162151 -0.045324  0.093012  ...  0.002756  0.095784  0.044691   \n",
      "2     0.034531  0.299597  0.085203  ...  0.124965  0.182419 -0.029639   \n",
      "3     0.014044  0.259953  0.108505  ... -0.035656  0.228542  0.057019   \n",
      "4     0.074894  0.248024 -0.020991  ...  0.067832  0.127299 -0.028072   \n",
      "...        ...       ...       ...  ...       ...       ...       ...   \n",
      "2154  0.089691  0.281005  0.011497  ...  0.095638  0.255686  0.075666   \n",
      "2155 -0.056769  0.016896  0.095274  ...  0.069237  0.032612  0.024816   \n",
      "2156 -0.120158 -0.064537  0.083073  ... -0.005127  0.104220  0.070151   \n",
      "2157  0.005639  0.122420  0.087915  ... -0.093008 -0.188559 -0.042996   \n",
      "2158  0.129003  0.199270  0.150783  ...  0.019372  0.150814  0.107573   \n",
      "\n",
      "      MFCCs_19  MFCCs_20  MFCCs_21  MFCCs_22  Family  Genus  Species  \n",
      "0    -0.015691 -0.114416 -0.041460  0.011978       1      1        2  \n",
      "1     0.017000 -0.019220 -0.064557 -0.044979       2      3        5  \n",
      "2    -0.150117 -0.158192  0.025760  0.181372       3      0        1  \n",
      "3    -0.154582 -0.182062  0.015546  0.246162       3      0        1  \n",
      "4    -0.069316 -0.069892  0.098817  0.232463       3      0        1  \n",
      "...        ...       ...       ...       ...     ...    ...      ...  \n",
      "2154 -0.055050 -0.101619  0.030767  0.189878       3      0        1  \n",
      "2155 -0.018284 -0.026578 -0.007603  0.015087       2      7        9  \n",
      "2156  0.022908 -0.011797 -0.045775 -0.016815       2      3        5  \n",
      "2157  0.062674 -0.018801 -0.085252  0.087206       1      1        2  \n",
      "2158 -0.014363 -0.072600 -0.039651  0.017255       2      2        3  \n",
      "\n",
      "[2159 rows x 25 columns]\n"
     ]
    }
   ],
   "source": [
    "import pandas as pd\n",
    "import numpy as np\n",
    "from sklearn.cluster import KMeans\n",
    "from sklearn.metrics import calinski_harabasz_score\n",
    "from sklearn.metrics import silhouette_score\n",
    "\n",
    "train = pd.read_csv('Train_Data.csv',index_col = 0)\n",
    "test = pd.read_csv('Test_Data.csv',index_col = 0)\n",
    "print(train)\n",
    "print(test)"
   ]
  },
  {
   "cell_type": "code",
   "execution_count": 22,
   "metadata": {},
   "outputs": [],
   "source": [
    "whole = pd.concat([train,test],axis=0)\n",
    "whole.reset_index(drop=True,inplace=True)"
   ]
  },
  {
   "cell_type": "code",
   "execution_count": 23,
   "metadata": {},
   "outputs": [
    {
     "name": "stdout",
     "output_type": "stream",
     "text": [
      "      MFCCs_ 1  MFCCs_ 2  MFCCs_ 3  MFCCs_ 4  MFCCs_ 5  MFCCs_ 6  MFCCs_ 7  \\\n",
      "0          1.0  0.464912  0.409357  0.229967  0.043024  0.110648  0.041558   \n",
      "1          1.0  0.550581  0.416760  0.199992  0.029394  0.152047  0.088736   \n",
      "2          1.0  0.305720  0.161712  0.521877  0.148562 -0.035945 -0.138314   \n",
      "3          1.0  0.085629  0.194640  0.558177  0.288138  0.013115 -0.084558   \n",
      "4          1.0  0.157831  0.220788  0.662399  0.255485 -0.011588 -0.164573   \n",
      "...        ...       ...       ...       ...       ...       ...       ...   \n",
      "7190       1.0  0.403517  0.251328  0.555090  0.202856 -0.060089 -0.147158   \n",
      "7191       1.0 -0.117778  0.117083  0.333777  0.383093  0.179308 -0.149329   \n",
      "7192       1.0  0.184261  0.325371  0.315440  0.125807  0.176992  0.131400   \n",
      "7193       1.0  0.176501 -0.118110  0.262950  0.242768  0.071629 -0.050304   \n",
      "7194       1.0 -0.350154 -0.378308 -0.025907  0.006280  0.169734  0.275162   \n",
      "\n",
      "      MFCCs_ 8  MFCCs_ 9  MFCCs_10  ...  MFCCs_16  MFCCs_17  MFCCs_18  \\\n",
      "0    -0.009842  0.081414  0.036627  ...  0.078128  0.019938 -0.039470   \n",
      "1    -0.052387  0.079058  0.068792  ...  0.053192 -0.017401 -0.021349   \n",
      "2     0.042936  0.228264 -0.002935  ...  0.012772  0.204895  0.116231   \n",
      "3     0.256094  0.278833 -0.065600  ...  0.095579  0.101606 -0.037121   \n",
      "4     0.049777  0.233471 -0.029371  ...  0.308647  0.261579 -0.079429   \n",
      "...        ...       ...       ...  ...       ...       ...       ...   \n",
      "7190  0.089691  0.281005  0.011497  ...  0.095638  0.255686  0.075666   \n",
      "7191 -0.056769  0.016896  0.095274  ...  0.069237  0.032612  0.024816   \n",
      "7192 -0.120158 -0.064537  0.083073  ... -0.005127  0.104220  0.070151   \n",
      "7193  0.005639  0.122420  0.087915  ... -0.093008 -0.188559 -0.042996   \n",
      "7194  0.129003  0.199270  0.150783  ...  0.019372  0.150814  0.107573   \n",
      "\n",
      "      MFCCs_19  MFCCs_20  MFCCs_21  MFCCs_22  Family  Genus  Species  \n",
      "0    -0.000706 -0.005770  0.002200  0.056288       2      3        5  \n",
      "1     0.031531  0.001219  0.006335  0.054646       2      3        5  \n",
      "2    -0.028744 -0.184980  0.000807  0.250984       3      0        1  \n",
      "3    -0.009066 -0.029094  0.140035  0.108224       3      0        1  \n",
      "4    -0.192822 -0.045800  0.168129  0.179297       3      0        1  \n",
      "...        ...       ...       ...       ...     ...    ...      ...  \n",
      "7190 -0.055050 -0.101619  0.030767  0.189878       3      0        1  \n",
      "7191 -0.018284 -0.026578 -0.007603  0.015087       2      7        9  \n",
      "7192  0.022908 -0.011797 -0.045775 -0.016815       2      3        5  \n",
      "7193  0.062674 -0.018801 -0.085252  0.087206       1      1        2  \n",
      "7194 -0.014363 -0.072600 -0.039651  0.017255       2      2        3  \n",
      "\n",
      "[7195 rows x 25 columns]\n"
     ]
    }
   ],
   "source": [
    "print(whole)"
   ]
  },
  {
   "cell_type": "code",
   "execution_count": 24,
   "metadata": {},
   "outputs": [
    {
     "name": "stdout",
     "output_type": "stream",
     "text": [
      "      MFCCs_ 1  MFCCs_ 2  MFCCs_ 3  MFCCs_ 4  MFCCs_ 5  MFCCs_ 6  MFCCs_ 7  \\\n",
      "0          1.0  0.464912  0.409357  0.229967  0.043024  0.110648  0.041558   \n",
      "1          1.0  0.550581  0.416760  0.199992  0.029394  0.152047  0.088736   \n",
      "2          1.0  0.305720  0.161712  0.521877  0.148562 -0.035945 -0.138314   \n",
      "3          1.0  0.085629  0.194640  0.558177  0.288138  0.013115 -0.084558   \n",
      "4          1.0  0.157831  0.220788  0.662399  0.255485 -0.011588 -0.164573   \n",
      "...        ...       ...       ...       ...       ...       ...       ...   \n",
      "7190       1.0  0.403517  0.251328  0.555090  0.202856 -0.060089 -0.147158   \n",
      "7191       1.0 -0.117778  0.117083  0.333777  0.383093  0.179308 -0.149329   \n",
      "7192       1.0  0.184261  0.325371  0.315440  0.125807  0.176992  0.131400   \n",
      "7193       1.0  0.176501 -0.118110  0.262950  0.242768  0.071629 -0.050304   \n",
      "7194       1.0 -0.350154 -0.378308 -0.025907  0.006280  0.169734  0.275162   \n",
      "\n",
      "      MFCCs_ 8  MFCCs_ 9  MFCCs_10  ...  MFCCs_13  MFCCs_14  MFCCs_15  \\\n",
      "0    -0.009842  0.081414  0.036627  ...  0.063291 -0.057370 -0.032915   \n",
      "1    -0.052387  0.079058  0.068792  ...  0.100111 -0.042021 -0.007641   \n",
      "2     0.042936  0.228264 -0.002935  ...  0.336542 -0.045743 -0.260697   \n",
      "3     0.256094  0.278833 -0.065600  ...  0.299832 -0.060055 -0.170615   \n",
      "4     0.049777  0.233471 -0.029371  ...  0.233300 -0.224380 -0.128133   \n",
      "...        ...       ...       ...  ...       ...       ...       ...   \n",
      "7190  0.089691  0.281005  0.011497  ...  0.319497 -0.079567 -0.260520   \n",
      "7191 -0.056769  0.016896  0.095274  ... -0.020602 -0.050579 -0.010287   \n",
      "7192 -0.120158 -0.064537  0.083073  ...  0.131386 -0.012355 -0.116458   \n",
      "7193  0.005639  0.122420  0.087915  ... -0.006284  0.279332  0.179417   \n",
      "7194  0.129003  0.199270  0.150783  ...  0.074445  0.021159 -0.100615   \n",
      "\n",
      "      MFCCs_16  MFCCs_17  MFCCs_18  MFCCs_19  MFCCs_20  MFCCs_21  MFCCs_22  \n",
      "0     0.078128  0.019938 -0.039470 -0.000706 -0.005770  0.002200  0.056288  \n",
      "1     0.053192 -0.017401 -0.021349  0.031531  0.001219  0.006335  0.054646  \n",
      "2     0.012772  0.204895  0.116231 -0.028744 -0.184980  0.000807  0.250984  \n",
      "3     0.095579  0.101606 -0.037121 -0.009066 -0.029094  0.140035  0.108224  \n",
      "4     0.308647  0.261579 -0.079429 -0.192822 -0.045800  0.168129  0.179297  \n",
      "...        ...       ...       ...       ...       ...       ...       ...  \n",
      "7190  0.095638  0.255686  0.075666 -0.055050 -0.101619  0.030767  0.189878  \n",
      "7191  0.069237  0.032612  0.024816 -0.018284 -0.026578 -0.007603  0.015087  \n",
      "7192 -0.005127  0.104220  0.070151  0.022908 -0.011797 -0.045775 -0.016815  \n",
      "7193 -0.093008 -0.188559 -0.042996  0.062674 -0.018801 -0.085252  0.087206  \n",
      "7194  0.019372  0.150814  0.107573 -0.014363 -0.072600 -0.039651  0.017255  \n",
      "\n",
      "[7195 rows x 22 columns]\n",
      "      Family  Genus  Species\n",
      "0          2      3        5\n",
      "1          2      3        5\n",
      "2          3      0        1\n",
      "3          3      0        1\n",
      "4          3      0        1\n",
      "...      ...    ...      ...\n",
      "7190       3      0        1\n",
      "7191       2      7        9\n",
      "7192       2      3        5\n",
      "7193       1      1        2\n",
      "7194       2      2        3\n",
      "\n",
      "[7195 rows x 3 columns]\n"
     ]
    }
   ],
   "source": [
    "features = whole.drop(columns=['Family','Genus','Species'])\n",
    "label_class = whole.iloc[:,[22,23,24]]\n",
    "print(features)\n",
    "print(label_class)"
   ]
  },
  {
   "cell_type": "code",
   "execution_count": 28,
   "metadata": {},
   "outputs": [
    {
     "name": "stdout",
     "output_type": "stream",
     "text": [
      "   Silhouette_Score_Average\n",
      "2                  0.348678\n",
      "3                  0.367693\n",
      "4                  0.378751\n",
      "5                  0.371483\n",
      "6                  0.264167\n",
      "7                  0.270377\n",
      "8                  0.270145\n",
      "9                   0.27643\n",
      "10                 0.262267\n",
      "11                 0.263254\n",
      "12                 0.271299\n",
      "13                 0.278209\n",
      "14                 0.284318\n",
      "15                  0.28873\n",
      "16                 0.292127\n",
      "17                  0.25944\n",
      "18                 0.278927\n",
      "19                 0.267219\n",
      "20                 0.265294\n",
      "21                 0.268966\n",
      "22                 0.270865\n",
      "23                 0.272566\n",
      "24                 0.263479\n",
      "25                 0.269879\n",
      "26                 0.279878\n",
      "27                 0.262981\n",
      "28                 0.260371\n",
      "29                 0.260552\n",
      "30                 0.261116\n",
      "31                  0.26571\n",
      "32                 0.263449\n",
      "33                 0.253012\n",
      "34                 0.259099\n",
      "35                 0.262902\n",
      "36                 0.259827\n",
      "37                 0.264057\n",
      "38                 0.244961\n",
      "39                 0.237222\n",
      "40                 0.264622\n",
      "41                 0.256628\n",
      "42                 0.243482\n",
      "43                 0.229836\n",
      "44                  0.25922\n",
      "45                 0.229574\n",
      "46                 0.251948\n",
      "47                 0.209048\n",
      "48                 0.228035\n",
      "49                 0.229643\n",
      "50                  0.22113\n"
     ]
    }
   ],
   "source": [
    "sil = pd.DataFrame(index=np.arange(2,51),columns=['Silhouette_Score_Average'])\n",
    "for i in np.arange(2,51):\n",
    "    kmeans = KMeans(n_clusters=i).fit(features)\n",
    "    pred_clusters = kmeans.labels_\n",
    "    sil.iloc[i-2] = silhouette_score(features,pred_clusters)\n",
    "    \n",
    "print(sil)"
   ]
  },
  {
   "cell_type": "code",
   "execution_count": 30,
   "metadata": {},
   "outputs": [
    {
     "data": {
      "text/plain": [
       "[<matplotlib.lines.Line2D at 0x1bb6d2fd548>]"
      ]
     },
     "execution_count": 30,
     "metadata": {},
     "output_type": "execute_result"
    },
    {
     "data": {
      "image/png": "[encoded data removed]",
      "text/plain": [
       "<Figure size 432x288 with 1 Axes>"
      ]
     },
     "metadata": {
      "needs_background": "light"
     },
     "output_type": "display_data"
    }
   ],
   "source": [
    "# Remove this for Monte Carlo\n",
    "\n",
    "import matplotlib.pyplot as plt\n",
    "\n",
    "plt.plot(np.arange(2,51),sil['Silhouette_Score_Average'])"
   ]
  },
  {
   "cell_type": "code",
   "execution_count": 34,
   "metadata": {},
   "outputs": [
    {
     "name": "stdout",
     "output_type": "stream",
     "text": [
      "4\n",
      "Silhouette_Score_Average    0.378751\n",
      "dtype: float64\n"
     ]
    }
   ],
   "source": [
    "# Picking the k with largest silhouette score\n",
    "\n",
    "max_sil = sil.max(axis=0)\n",
    "max_indx = np.argmax(sil['Silhouette_Score_Average'].to_numpy().flatten())\n",
    "k_selected = max_indx + 2\n",
    "print(k_selected)\n",
    "print(max_sil)"
   ]
  },
  {
   "cell_type": "code",
   "execution_count": 35,
   "metadata": {},
   "outputs": [
    {
     "name": "stdout",
     "output_type": "stream",
     "text": [
      "[0 0 1 ... 0 3 3]\n"
     ]
    }
   ],
   "source": [
    "# Clustering using this ideal k, selected via silhouette\n",
    "\n",
    "kmeans = KMeans(n_clusters = k_selected).fit(features)\n",
    "cluster_groups = kmeans.labels_\n",
    "print(cluster_groups)"
   ]
  },
  {
   "cell_type": "code",
   "execution_count": 36,
   "metadata": {},
   "outputs": [
    {
     "name": "stdout",
     "output_type": "stream",
     "text": [
      "  Fam_Clus Gen_Clus Spec_Clus\n",
      "0        2        3         5\n",
      "1        3        0         1\n",
      "2        2        3         4\n",
      "3        1        1         2\n"
     ]
    }
   ],
   "source": [
    "cluster_triplet_df = pd.DataFrame(index = np.arange(0,k_selected),columns=['Fam_Clus','Gen_Clus','Spec_Clus']) # has cluster label details\n",
    "for q in np.arange(0,k_selected):\n",
    "    for l in np.arange(0,3):\n",
    "        loc_build = []\n",
    "        for p in np.arange(0,features.shape[0]):\n",
    "            if cluster_groups[p] == q:\n",
    "                loc_build.append(label_class.iloc[p,l])\n",
    "        \n",
    "        build = np.array(loc_build)\n",
    "        build_counts = np.bincount(build)\n",
    "        highest_freq = np.argmax(build_counts)\n",
    "        cluster_triplet_df.iloc[q,l] = highest_freq\n",
    "\n",
    "\n",
    "print(cluster_triplet_df)"
   ]
  },
  {
   "cell_type": "code",
   "execution_count": 40,
   "metadata": {},
   "outputs": [
    {
     "name": "stdout",
     "output_type": "stream",
     "text": [
      "     Family Genus Species\n",
      "0         2     3       5\n",
      "1         2     3       5\n",
      "2         3     0       1\n",
      "3         3     0       1\n",
      "4         3     0       1\n",
      "...     ...   ...     ...\n",
      "7190      3     0       1\n",
      "7191      1     1       2\n",
      "7192      2     3       5\n",
      "7193      1     1       2\n",
      "7194      1     1       2\n",
      "\n",
      "[7195 rows x 3 columns]\n"
     ]
    }
   ],
   "source": [
    "# cluster_triplet_df contains triplet of class, corresponding to the corresponding label\n",
    "\n",
    "cluster_predictions_label_class = pd.DataFrame(index = np.arange(0,features.shape[0]),columns = ['Family','Genus','Species'])\n",
    "\n",
    "for i in np.arange(0,features.shape[0]):\n",
    "    cluster_predictions_label_class.iloc[i,0] = cluster_triplet_df.iloc[cluster_groups[i],0]\n",
    "    cluster_predictions_label_class.iloc[i,1] = cluster_triplet_df.iloc[cluster_groups[i],1]\n",
    "    cluster_predictions_label_class.iloc[i,2] = cluster_triplet_df.iloc[cluster_groups[i],2]\n",
    "    \n",
    "print(cluster_predictions_label_class)"
   ]
  },
  {
   "cell_type": "code",
   "execution_count": 41,
   "metadata": {},
   "outputs": [
    {
     "name": "stdout",
     "output_type": "stream",
     "text": [
      "Hamming Loss is : \n",
      " 22.24229789205467 %\n",
      "Hamming Distance is, in terms of average misclassifications per instance, : \n",
      " 0.66726893676164\n"
     ]
    }
   ],
   "source": [
    "# cluster_predictions_label_class has the required classification, as performed by clustering the data first\n",
    "# now the metrics will be evaluated\n",
    "\n",
    "# Hamming Loss and Hamming Distance\n",
    "\n",
    "mis = 0\n",
    "for i in np.arange(0,features.shape[0]):\n",
    "    for j in np.arange(0,3):\n",
    "        if cluster_predictions_label_class.iloc[i,j] != label_class.iloc[i,j]:\n",
    "            mis = mis + 1\n",
    "        \n",
    "    \n",
    "hamming_loss = (mis/(3*features.shape[0]))*100\n",
    "\n",
    "hamming_distance = mis/features.shape[0]\n",
    "\n",
    "print('Hamming Loss is : \\n',hamming_loss,'%')\n",
    "\n",
    "print('Hamming Distance is, in terms of average misclassifications per instance, : \\n',hamming_distance)    "
   ]
  },
  {
   "cell_type": "markdown",
   "metadata": {},
   "source": [
    "As can be seen the HL is 22 % (avg misclassification percentage)\n",
    "HD is 0.67, thus every instance there will be 0.67 misclassifications or every 3 instances there will approximately be 2 misclassified labels (same or different labels)\n",
    "\n",
    "This HL is high, as clusters are small and thus no matter what, all the label-class combinations can't be represented by these clusters (clusters <<< those label-class combinations)"
   ]
  },
  {
   "cell_type": "code",
   "execution_count": 54,
   "metadata": {},
   "outputs": [
    {
     "name": "stdout",
     "output_type": "stream",
     "text": [
      "The hamming score (accuracy score) obtained is : \n",
      " 80.62080148251074 %\n"
     ]
    }
   ],
   "source": [
    "# Hamming Score (true/total distinct)\n",
    "\n",
    "hs = 0\n",
    "for i in np.arange(0,features.shape[0]):\n",
    "    \n",
    "    sam_loc = 0\n",
    "    for j in np.arange(0,3):\n",
    "        \n",
    "        if cluster_predictions_label_class.iloc[i,j] == label_class.iloc[i,j]:  # note the equality here, true calculated\n",
    "            sam_loc = sam_loc + 1\n",
    "    \n",
    "    pred_loc = cluster_predictions_label_class.iloc[i,:].to_numpy().flatten()\n",
    "    true_loc = label_class.iloc[i,:].to_numpy().flatten()\n",
    "    \n",
    "    uni_rep_strng = np.concatenate((pred_loc,true_loc)).flatten()  # union, absolute, with repetitions\n",
    "    \n",
    "    uni_bin = np.bincount(uni_rep_strng.astype(int))\n",
    "    \n",
    "    for m in np.arange(0,uni_bin.size):\n",
    "        if uni_bin[m] > 1:\n",
    "            uni_bin[m] = 1\n",
    "    \n",
    "    dist_cnt = np.sum(uni_bin)    # count of total distinct elements\n",
    "    \n",
    "    hs_loc = sam_loc/dist_cnt\n",
    "    \n",
    "    hs = hs + hs_loc          # running sum of HS\n",
    "    \n",
    "\n",
    "hamming_score = (hs/features.shape[0])*100\n",
    "\n",
    "print('The hamming score (accuracy score) obtained is : \\n',hamming_score,'%')"
   ]
  },
  {
   "cell_type": "markdown",
   "metadata": {},
   "source": [
    "NOTE :\n",
    "This was all done for once, we'll perform these tasks 50 times in the next portion\n",
    "This was just to see if my code worked properly or not before iterating 50 times"
   ]
  }
 ],
 "metadata": {
  "kernelspec": {
   "display_name": "Python 3",
   "language": "python",
   "name": "python3"
  },
  "language_info": {
   "codemirror_mode": {
    "name": "ipython",
    "version": 3
   },
   "file_extension": ".py",
   "mimetype": "text/x-python",
   "name": "python",
   "nbconvert_exporter": "python",
   "pygments_lexer": "ipython3",
   "version": "3.7.6"
  }
 },
 "nbformat": 4,
 "nbformat_minor": 4
}
